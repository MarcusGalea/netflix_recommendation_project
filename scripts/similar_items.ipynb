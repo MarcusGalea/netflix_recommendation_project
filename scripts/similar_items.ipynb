{
 "cells": [
  {
   "cell_type": "markdown",
   "metadata": {},
   "source": [
    "# Import preprocessed data"
   ]
  },
  {
   "cell_type": "code",
   "execution_count": 24,
   "metadata": {},
   "outputs": [],
   "source": [
    "from tqdm import tqdm\n",
    "import numpy as np\n",
    "import mmh3\n",
    "from src.structures import User, Movie\n",
    "from src.data_methods import read_movies,read_viewers\n",
    "import kagglehub"
   ]
  },
  {
   "cell_type": "code",
   "execution_count": 28,
   "metadata": {},
   "outputs": [],
   "source": [
    "# Download latest version\n",
    "datapath = kagglehub.dataset_download(\"netflix-inc/netflix-prize-data\")"
   ]
  },
  {
   "cell_type": "code",
   "execution_count": 29,
   "metadata": {},
   "outputs": [],
   "source": [
    "n_lines = 10000 #number of reviews to read\n",
    "datafiles = [\"combined_data_1.txt\"]#, \"combined_data_2.txt\", \"combined_data_3.txt\", \"combined_data_4.txt\"]\n",
    "with_tqdm = False #set to True to see progress bar (reduce speed)\n",
    "\n",
    "movies = read_movies(datapath)\n",
    "users = read_viewers(datapath, movies, datafiles = datafiles, with_tqdm= with_tqdm, n_lines=n_lines) #read only 100000 "
   ]
  },
  {
   "cell_type": "markdown",
   "metadata": {},
   "source": [
    "# Compute Signature matrix"
   ]
  },
  {
   "cell_type": "code",
   "execution_count": 35,
   "metadata": {},
   "outputs": [],
   "source": [
    "\n",
    "def compute_minhashes(\n",
    "                    object: Movie | User, #movie or user to compute minhashes for\n",
    "                    n_hash = 100 #number of hashes\n",
    "                    ):\n",
    "    \n",
    "    bag = object.bag_ratings() #bag of ratings\n",
    "    hashes = np.array([[mmh3.hash(id, seed) for id in bag] for seed in range(n_hash)]) #hashes for each seed\n",
    "    minhashes = np.min(hashes, axis = 1) #minhashes for each seed\n",
    "    return minhashes\n",
    "\n",
    "def compute_signatures(\n",
    "                    objets: dict[str, Movie | User], #objects to compute signatures for\n",
    "                    n_hash = 100, #number of hashes\n",
    "                    with_tqdm = True #whether to show progress bar\n",
    "                    ):\n",
    "    iterator = tqdm(objets.items()) if with_tqdm else objets.items() #iterator\n",
    "    signatures = {id: compute_minhashes(obj, n_hash) for id, obj in iterator}\n",
    "    return signatures\n",
    "\n",
    "def bucket_hash(signatures, n_buckets = 100):\n",
    "    bucket = 0\n",
    "    for signature in signatures:\n",
    "        bucket = bucket ^ hash(signature) #xor of all signatures\n",
    "    return bucket % n_buckets #modulo n_buckets\n",
    "\n",
    "cartesian_product_exclude_same = lambda A,B : set((a,b) for a in A for b in B if (a != b and b > a))\n",
    "res = cartesian_product_exclude_same([1,2,3], [1,2,3])"
   ]
  },
  {
   "cell_type": "code",
   "execution_count": 36,
   "metadata": {},
   "outputs": [
    {
     "data": {
      "text/plain": [
       "array([-1810453357, -1570063170,  -184002522,  -126235597,  -172315920,\n",
       "        -346150140, -2131240906,  -793765815, -1571785578,  -977649233,\n",
       "        -535678046, -1457417976, -1562019656,   101162235, -1560298715,\n",
       "        -956861631,   168904549,   790285535, -2070529337,   625771924,\n",
       "        -249096934,   166839407, -1447133418, -1508133614,  -721831573,\n",
       "       -1056278211, -2114645946,  -381543989,     2653644,  -243094001,\n",
       "       -1200734897, -1428275679,  1687665648,  -677418915, -1473849242,\n",
       "        -248996816,  -893062816,  -576892624,  1653519337, -1799033939,\n",
       "       -1549378093, -1625405734, -1868994069, -1367157416,  1017076005,\n",
       "       -1384113491,  -310537956, -1527923987, -1384278664,   427621935,\n",
       "         369715913, -1778312296,   436922359,  -868451072,  -383727986,\n",
       "        -532758649, -2127377514,  -701845473,   559389694, -1995129985,\n",
       "         517183813,  1120606309,  -552741755,  -943591880, -1871239471,\n",
       "       -1987538483,  -818748851, -1542113122, -1668779179,   290657871,\n",
       "        -959982167, -2045232877, -1003898498,  -203119162,   713384309,\n",
       "       -1380004602, -1589545483,  -847925960,  1712351703, -1781344661,\n",
       "         917833904,  -697075599,  1477803771, -1448407665,  1896077532,\n",
       "        -203164242, -1477897465,   786831709,  -925067206,  -736368680,\n",
       "       -1171548884,  -811098947, -1112867387, -2029454380,  -610357792,\n",
       "        -838302847,   -46772570, -1838324511, -1400954927, -2032692195])"
      ]
     },
     "execution_count": 36,
     "metadata": {},
     "output_type": "execute_result"
    }
   ],
   "source": [
    "n_hash = 100    \n",
    "user = users[\"1488844\"]\n",
    "minhashes = compute_minhashes(user, n_hash)\n",
    "minhashes"
   ]
  },
  {
   "cell_type": "markdown",
   "metadata": {},
   "source": [
    "# Exercise 3.4.4 : \n",
    "Suppose we wish to implement LSH by MapReduce. Specifi\u0002cally, assume chunks of the signature matrix consist of columns, and elements\n",
    "are key-value pairs where the key is the column number and the value is the\n",
    "signature itself (i.e., a vector of values).\n",
    "\n",
    "    a) Show how to produce the buckets for all the bands as output of a single\n",
    "    MapReduce process. Hint: Remember that a Map function can produce\n",
    "    several key-value pairs from a single element.\n",
    "\n",
    "    b) Show how another MapReduce process can convert the output of (a) to\n",
    "    a list of pairs that need to be compared. Specifically, for each column i,\n",
    "    there should be a list of those columns j > i with which i needs to be\n",
    "    compared."
   ]
  },
  {
   "cell_type": "code",
   "execution_count": 117,
   "metadata": {},
   "outputs": [],
   "source": [
    "\n",
    "def create_bucket_matrix(signatures: dict[str, np.ndarray], n_buckets = 100, bands = 10):\n",
    "    \"\"\"Creates a matrix of size (n_objects, bands) where each entry corresponds to a bucket number for a band of the minhash signatures.\n",
    "\n",
    "    Args:\n",
    "        signatures (dict[str, np.ndarray]): dictionary of on the form {object_id: [hash1, hash2, ...]} where the object is a user or movie.\n",
    "        n_buckets (int, optional): number of buckets. Defaults to 100.\n",
    "        bands (int, optional): number of bands. Defaults to 10.\n",
    "\n",
    "    Returns:\n",
    "        buckets: matrix of size (n_objects, bands) where each entry corresponds to a bucket number for a band\n",
    "    \"\"\"\n",
    "    \n",
    "    r = len(signatures) // bands\n",
    "    buckets = np.zeros((len(signatures), bands), dtype = int)\n",
    "    i = 0\n",
    "    for _, signature in signatures.items(): #for each object\n",
    "        for j in range(bands): #for each band\n",
    "            buckets[i,j] = bucket_hash(signature[j*r:(j+1)*r], n_buckets=n_buckets)\n",
    "        i += 1\n",
    "    return buckets"
   ]
  },
  {
   "cell_type": "code",
   "execution_count": 118,
   "metadata": {},
   "outputs": [
    {
     "name": "stderr",
     "output_type": "stream",
     "text": [
      "100%|██████████| 9619/9619 [00:17<00:00, 558.69it/s]\n"
     ]
    }
   ],
   "source": [
    "n_hashes = 1000\n",
    "b = 20\n",
    "r = n_hashes // b\n",
    "n_buckets = 10000\n",
    "\n",
    "SIG = compute_signatures(users, n_hashes, with_tqdm = True)\n",
    "buckets = create_bucket_matrix(SIG, n_buckets, bands = b)"
   ]
  },
  {
   "cell_type": "code",
   "execution_count": 121,
   "metadata": {},
   "outputs": [],
   "source": [
    "def find_candidates(buckets, users):\n",
    "    #buckets is a matrix of size (n_users, bands)\n",
    "    ids = np.array(list(users.keys()))\n",
    "    candidates = set()\n",
    "    for band in buckets.T:\n",
    "        #find collisions\n",
    "        unique = np.unique(band)\n",
    "        for bucket_value in tqdm(unique):\n",
    "            idx = np.where(bucket_value == band)[0]\n",
    "            new_candidates = cartesian_product_exclude_same(ids[idx], ids[idx])\n",
    "            candidates = candidates.union(new_candidates)\n",
    "    return candidates\n"
   ]
  },
  {
   "cell_type": "code",
   "execution_count": 122,
   "metadata": {},
   "outputs": [
    {
     "name": "stderr",
     "output_type": "stream",
     "text": [
      " 85%|████████▌ | 47/55 [00:45<00:07,  1.02it/s]\n",
      "  0%|          | 0/20 [00:45<?, ?it/s]\n"
     ]
    },
    {
     "ename": "KeyboardInterrupt",
     "evalue": "",
     "output_type": "error",
     "traceback": [
      "\u001b[1;31m---------------------------------------------------------------------------\u001b[0m",
      "\u001b[1;31mKeyboardInterrupt\u001b[0m                         Traceback (most recent call last)",
      "Cell \u001b[1;32mIn[122], line 1\u001b[0m\n\u001b[1;32m----> 1\u001b[0m candidates \u001b[38;5;241m=\u001b[39m \u001b[43mfind_candidates\u001b[49m\u001b[43m(\u001b[49m\u001b[43mbuckets\u001b[49m\u001b[43m,\u001b[49m\u001b[43m \u001b[49m\u001b[43musers\u001b[49m\u001b[43m)\u001b[49m\n",
      "Cell \u001b[1;32mIn[121], line 8\u001b[0m, in \u001b[0;36mfind_candidates\u001b[1;34m(buckets, users)\u001b[0m\n\u001b[0;32m      5\u001b[0m \u001b[38;5;28;01mfor\u001b[39;00m band \u001b[38;5;129;01min\u001b[39;00m tqdm(buckets\u001b[38;5;241m.\u001b[39mT):\n\u001b[0;32m      6\u001b[0m     \u001b[38;5;66;03m#find collisions\u001b[39;00m\n\u001b[0;32m      7\u001b[0m     unique \u001b[38;5;241m=\u001b[39m np\u001b[38;5;241m.\u001b[39munique(band)\n\u001b[1;32m----> 8\u001b[0m \u001b[43m    \u001b[49m\u001b[38;5;28;43;01mfor\u001b[39;49;00m\u001b[43m \u001b[49m\u001b[43mbucket_value\u001b[49m\u001b[43m \u001b[49m\u001b[38;5;129;43;01min\u001b[39;49;00m\u001b[43m \u001b[49m\u001b[43mtqdm\u001b[49m\u001b[43m(\u001b[49m\u001b[43munique\u001b[49m\u001b[43m)\u001b[49m\u001b[43m:\u001b[49m\n\u001b[0;32m      9\u001b[0m \u001b[43m        \u001b[49m\u001b[43midx\u001b[49m\u001b[43m \u001b[49m\u001b[38;5;241;43m=\u001b[39;49m\u001b[43m \u001b[49m\u001b[43mnp\u001b[49m\u001b[38;5;241;43m.\u001b[39;49m\u001b[43mwhere\u001b[49m\u001b[43m(\u001b[49m\u001b[43mbucket_value\u001b[49m\u001b[43m \u001b[49m\u001b[38;5;241;43m==\u001b[39;49m\u001b[43m \u001b[49m\u001b[43mband\u001b[49m\u001b[43m)\u001b[49m\u001b[43m[\u001b[49m\u001b[38;5;241;43m0\u001b[39;49m\u001b[43m]\u001b[49m\n\u001b[0;32m     10\u001b[0m \u001b[43m        \u001b[49m\u001b[43mnew_candidates\u001b[49m\u001b[43m \u001b[49m\u001b[38;5;241;43m=\u001b[39;49m\u001b[43m \u001b[49m\u001b[43mcartesian_product_exclude_same\u001b[49m\u001b[43m(\u001b[49m\u001b[43mids\u001b[49m\u001b[43m[\u001b[49m\u001b[43midx\u001b[49m\u001b[43m]\u001b[49m\u001b[43m,\u001b[49m\u001b[43m \u001b[49m\u001b[43mids\u001b[49m\u001b[43m[\u001b[49m\u001b[43midx\u001b[49m\u001b[43m]\u001b[49m\u001b[43m)\u001b[49m\n",
      "File \u001b[1;32m~\\AppData\\Local\\Packages\\PythonSoftwareFoundation.Python.3.11_qbz5n2kfra8p0\\LocalCache\\local-packages\\Python311\\site-packages\\tqdm\\std.py:1183\u001b[0m, in \u001b[0;36mtqdm.__iter__\u001b[1;34m(self)\u001b[0m\n\u001b[0;32m   1181\u001b[0m \u001b[38;5;28;01mtry\u001b[39;00m:\n\u001b[0;32m   1182\u001b[0m     \u001b[38;5;28;01mfor\u001b[39;00m obj \u001b[38;5;129;01min\u001b[39;00m iterable:\n\u001b[1;32m-> 1183\u001b[0m         \u001b[38;5;28;01myield\u001b[39;00m obj\n\u001b[0;32m   1184\u001b[0m         \u001b[38;5;66;03m# Update and possibly print the progressbar.\u001b[39;00m\n\u001b[0;32m   1185\u001b[0m         \u001b[38;5;66;03m# Note: does not call self.update(1) for speed optimisation.\u001b[39;00m\n\u001b[0;32m   1186\u001b[0m         n \u001b[38;5;241m+\u001b[39m\u001b[38;5;241m=\u001b[39m \u001b[38;5;241m1\u001b[39m\n",
      "\u001b[1;31mKeyboardInterrupt\u001b[0m: "
     ]
    }
   ],
   "source": [
    "candidates = find_candidates(buckets, users)"
   ]
  },
  {
   "cell_type": "code",
   "execution_count": 115,
   "metadata": {},
   "outputs": [
    {
     "data": {
      "text/plain": [
       "{('1664010', '2118461'),\n",
       " ('1664010', '305344'),\n",
       " ('1664010', '387418'),\n",
       " ('2118461', '305344'),\n",
       " ('2118461', '387418'),\n",
       " ('305344', '387418')}"
      ]
     },
     "execution_count": 115,
     "metadata": {},
     "output_type": "execute_result"
    }
   ],
   "source": []
  },
  {
   "cell_type": "code",
   "execution_count": 116,
   "metadata": {},
   "outputs": [
    {
     "data": {
      "text/plain": [
       "array(['1664010', '305344', '2118461', '387418'], dtype='<U7')"
      ]
     },
     "execution_count": 116,
     "metadata": {},
     "output_type": "execute_result"
    }
   ],
   "source": [
    "ids[idx]"
   ]
  },
  {
   "cell_type": "code",
   "execution_count": 47,
   "metadata": {},
   "outputs": [
    {
     "data": {
      "text/plain": [
       "{(1, 2), (1, 3), (2, 3)}"
      ]
     },
     "execution_count": 47,
     "metadata": {},
     "output_type": "execute_result"
    }
   ],
   "source": []
  },
  {
   "cell_type": "code",
   "execution_count": 77,
   "metadata": {},
   "outputs": [
    {
     "data": {
      "text/plain": [
       "True"
      ]
     },
     "execution_count": 77,
     "metadata": {},
     "output_type": "execute_result"
    }
   ],
   "source": [
    "\"A\" < \"B\""
   ]
  }
 ],
 "metadata": {
  "kernelspec": {
   "display_name": "Python 3",
   "language": "python",
   "name": "python3"
  },
  "language_info": {
   "codemirror_mode": {
    "name": "ipython",
    "version": 3
   },
   "file_extension": ".py",
   "mimetype": "text/x-python",
   "name": "python",
   "nbconvert_exporter": "python",
   "pygments_lexer": "ipython3",
   "version": "3.11.9"
  }
 },
 "nbformat": 4,
 "nbformat_minor": 2
}
