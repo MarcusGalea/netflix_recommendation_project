{
 "cells": [
  {
   "cell_type": "code",
   "execution_count": 1,
   "metadata": {},
   "outputs": [],
   "source": [
    "#log into kaggle to access dataset\n",
    "import os\n",
    "from collections import defaultdict\n",
    "import kagglehub\n",
    "import numpy as np\n",
    "from tqdm import tqdm"
   ]
  },
  {
   "cell_type": "code",
   "execution_count": 2,
   "metadata": {},
   "outputs": [],
   "source": [
    "#please ikke offentliggør min api key. \n",
    "os.environ['KAGGLE_USERNAME'] = \"marcusgaleajacobsen\"\n",
    "os.environ['KAGGLE_KEY'] = \"32a3003f52c97053841ea46c492128dc\""
   ]
  },
  {
   "cell_type": "markdown",
   "metadata": {},
   "source": [
    "# Download data"
   ]
  },
  {
   "cell_type": "code",
   "execution_count": 3,
   "metadata": {},
   "outputs": [
    {
     "data": {
      "text/plain": [
       "['combined_data_1.txt',\n",
       " 'combined_data_2.txt',\n",
       " 'combined_data_3.txt',\n",
       " 'combined_data_4.txt',\n",
       " 'movie_titles.csv',\n",
       " 'probe.txt',\n",
       " 'qualifying.txt',\n",
       " 'README']"
      ]
     },
     "execution_count": 3,
     "metadata": {},
     "output_type": "execute_result"
    }
   ],
   "source": [
    "# Download latest version\n",
    "datapath = kagglehub.dataset_download(\"netflix-inc/netflix-prize-data\")\n",
    "os.listdir(datapath)"
   ]
  },
  {
   "cell_type": "markdown",
   "metadata": {},
   "source": [
    "# Custom Movie and User data structures\n",
    "One data structure suggestion is to store the users and movies in their own dictionaries with the user_id and movie_id as the keys. The advantage of dictionaries is that all entries have an access time of $O(1)$. \n",
    "```python\n",
    "users = {\n",
    "    '123': User('123')\n",
    "    ...\n",
    "}\n",
    "movies = {\n",
    "    '1': Movie(1, 'Toy Story', '1995')\n",
    "    ...\n",
    "}\n",
    "```"
   ]
  },
  {
   "cell_type": "code",
   "execution_count": 4,
   "metadata": {},
   "outputs": [],
   "source": [
    "from src.structures import Movie, User\n",
    "from src.data_methods import read_movies,read_viewers, dict_to_df, read_df\n",
    "\n",
    "n_lines = 10000 #number of reviews to read\n",
    "datafiles = [\"combined_data_1.txt\"]#, \"combined_data_2.txt\", \"combined_data_3.txt\", \"combined_data_4.txt\"]\n",
    "with_tqdm = False #set to True to see progress bar (reduce speed)\n",
    "\n",
    "movies = read_movies(datapath)\n",
    "users = read_viewers(datapath, movies, datafiles = datafiles, with_tqdm= with_tqdm, n_lines=n_lines) #read only 100000 reviews for now"
   ]
  },
  {
   "cell_type": "markdown",
   "metadata": {},
   "source": [
    "# Methods"
   ]
  },
  {
   "cell_type": "code",
   "execution_count": 5,
   "metadata": {},
   "outputs": [
    {
     "name": "stdout",
     "output_type": "stream",
     "text": [
      "User(1488844)\n",
      "ratings on the format movie_id : rating  defaultdict(<class 'float'>, {'1': 3, '8': 4})\n"
     ]
    }
   ],
   "source": [
    "#get ratings for a user\n",
    "user = users['1488844']\n",
    "print(user)\n",
    "print(\"ratings on the format movie_id : rating \",user.get_ratings())"
   ]
  },
  {
   "cell_type": "code",
   "execution_count": 6,
   "metadata": {},
   "outputs": [
    {
     "name": "stdout",
     "output_type": "stream",
     "text": [
      "Dinosaur Planet, 2003\n",
      "ratings on the format user_id : rating:  {'1488844': 3, '822109': 5, '885013': 4, '30878': 4, '823519': 3, '893988': 3, '124105': 4, '1248029': 3, '1842128': 4, '2238063': 3, '1503895': 4, '2207774': 5, '2590061': 3, '2442': 3, '543865': 4, '1209119': 4, '804919': 4, '1086807': 3, '1711859': 4, '372233': 5, '1080361': 3, '1245640': 3, '558634': 4, '2165002': 4, '1181550': 3, '1227322': 4, '427928': 4, '814701': 5, '808731': 4, '662870': 5, '337541': 5, '786312': 3, '1133214': 4, '1537427': 4, '1209954': 5, '2381599': 3, '525356': 2, '1910569': 4, '2263586': 4, '2421815': 2, '1009622': 1, '1481961': 2, '401047': 4, '2179073': 3, '1434636': 3, '93986': 5, '1308744': 5, '2647871': 4, '1905581': 5, '2508819': 3, '1578279': 1, '1159695': 4, '2588432': 3, '2423091': 3, '470232': 4, '2148699': 2, '1342007': 3, '466135': 4, '2472440': 3, '1283744': 3, '1927580': 4, '716874': 5, '4326': 4, '1546549': 5, '1493697': 1, '880166': 5, '535396': 2, '494609': 4, '1961619': 5, '883478': 4, '793564': 4, '1567202': 2, '573537': 4, '1972040': 4, '1838912': 3, '411705': 4, '2244518': 5, '584542': 5, '667730': 5, '2488120': 5, '1926776': 1, '38052': 3, '1196100': 4, '314933': 3, '1792741': 2, '769643': 1, '2477242': 5, '1421006': 3, '729846': 4, '1719610': 2, '1696031': 4, '1817215': 4, '406057': 4, '636262': 1, '1245406': 4, '1834590': 3, '593225': 3, '1011918': 4, '1665054': 4, '2630337': 5, '1155747': 3, '2439493': 1, '479924': 5, '530789': 5, '765860': 4, '231001': 3, '1493615': 5, '1850615': 2, '68959': 3, '147386': 5, '624035': 5, '782308': 5, '1116080': 5, '421374': 5, '1158759': 4, '1025798': 3, '1215397': 5, '2475251': 4, '321111': 2, '2162676': 3, '2635437': 4, '2389367': 1, '485622': 5, '235553': 4, '831869': 4, '99400': 5, '684876': 4, '1871179': 3, '1107678': 5, '642036': 3, '700890': 5, '2289956': 5, '2040859': 1, '1524964': 3, '121318': 4, '317050': 5, '2287003': 5, '59052': 2, '893742': 4, '1346257': 3, '55016': 3, '30245': 5, '743633': 4, '1596531': 5, '1125499': 5, '706832': 4, '2465337': 3, '2291422': 1, '1777406': 3, '1904905': 4, '2450433': 3, '1348967': 2, '638020': 3, '2217779': 4, '194280': 1, '493009': 4, '1567167': 4, '850327': 5, '520386': 3, '320540': 2, '1188228': 2, '57961': 4, '1113230': 3, '1374216': 2, '595778': 3, '209573': 4, '2354601': 5, '2563596': 4, '835265': 4, '1819474': 3, '1447104': 3, '1100940': 1, '143274': 3, '2329565': 4, '181592': 4, '936396': 2, '1125797': 3, '2283366': 3, '514495': 4, '1772176': 3, '1877347': 4, '1287892': 4, '255443': 2, '890669': 4, '1989766': 4, '2315073': 4, '14756': 4, '907623': 3, '991423': 4, '1604238': 4, '1027056': 3, '2025883': 5, '732936': 5, '563962': 5, '799442': 4, '352635': 5, '2537543': 5, '1564395': 4, '1655178': 4, '573434': 4, '1141189': 4, '383247': 5, '1763921': 5, '1943970': 5, '322009': 3, '2333817': 3, '2095681': 2, '1149588': 4, '2354740': 5, '2421360': 5, '496087': 2, '2191781': 1, '1694083': 4, '818416': 3, '701960': 5, '2090477': 4, '1664010': 5, '2583822': 5, '369646': 5, '2234063': 4, '259799': 4, '1077982': 4, '2631796': 4, '1122383': 3, '1508526': 3, '1600207': 5, '1283117': 5, '1727869': 5, '1522799': 4, '1394012': 5, '1558286': 3, '1155602': 3, '361066': 3, '1743210': 5, '1148389': 4, '2268101': 4, '519684': 5, '767518': 5, '122197': 1, '2112162': 4, '1073367': 3, '400162': 5, '1524343': 5, '741245': 4, '2563768': 3, '1406595': 4, '1137010': 4, '60343': 5, '225765': 4, '2530404': 3, '437881': 3, '1935793': 1, '134001': 4, '2607300': 3, '1008986': 4, '94565': 4, '828410': 4, '1805202': 4, '1922925': 4, '1435717': 5, '2277395': 4, '2305014': 5, '166041': 4, '2413320': 4, '87113': 2, '722591': 5, '2291306': 1, '2010770': 4, '255383': 5, '1873429': 4, '1647618': 4, '608234': 5, '42930': 3, '1462072': 5, '685565': 5, '3321': 3, '2554942': 4, '1874547': 4, '2269844': 5, '34907': 3, '1779903': 4, '2576424': 4, '230112': 3, '508727': 3, '1603525': 3, '172264': 4, '1182185': 4, '2275470': 2, '491531': 5, '1346432': 4, '1554712': 5, '1450941': 5, '1714116': 3, '2016488': 4, '1782762': 4, '1343170': 5, '2565752': 4, '435841': 3, '2242821': 5, '638824': 5, '2256485': 1, '101597': 5, '623036': 5, '1559445': 5, '1723381': 5, '1824586': 4, '2233105': 4, '682963': 3, '2529547': 5, '504620': 2, '1682104': 4, '16272': 4, '2491785': 5, '978412': 5, '2054145': 3, '2444240': 3, '547732': 3, '811790': 5, '31913': 4, '437111': 4, '640588': 4, '2625019': 3, '2605190': 5, '915': 5, '1430587': 4, '2544219': 5, '2603381': 5, '305344': 1, '2569099': 1, '2430356': 4, '885165': 4, '2380806': 5, '1512406': 1, '1774623': 4, '2226525': 4, '2537076': 4, '2060858': 4, '498469': 5, '68033': 4, '1819146': 5, '2088415': 4, '473070': 5, '1823641': 5, '1839976': 2, '14924': 5, '1852606': 4, '453694': 5, '921487': 2, '1022254': 5, '2464081': 4, '1228324': 4, '1563530': 4, '1181170': 3, '1357013': 3, '21722': 4, '288420': 5, '1739170': 5, '2584676': 3, '2013504': 4, '1245176': 4, '269524': 3, '661344': 3, '652324': 3, '2239213': 3, '863302': 4, '758850': 4, '1884755': 2, '544833': 3, '1562707': 1, '810700': 5, '837756': 5, '155164': 4, '493945': 5, '1565175': 5, '2005193': 4, '1605780': 4, '1294335': 2, '608576': 4, '659505': 4, '1604707': 4, '2630797': 5, '402266': 5, '752642': 3, '1906145': 4, '389872': 2, '1462866': 2, '1952116': 4, '54774': 4, '1776980': 5, '1494196': 5, '253794': 5, '1569513': 3, '596728': 2, '1107588': 1, '1133763': 3, '1398076': 4, '1178171': 4, '984369': 3, '2618594': 4, '1653834': 4, '2322840': 3, '2207647': 4, '1994111': 4, '1824044': 4, '2255037': 3, '2056022': 3, '1458179': 4, '1508350': 4, '1168571': 5, '766489': 3, '1424199': 5, '2054180': 3, '448902': 5, '1547173': 3, '1751103': 4, '121073': 5, '2609436': 4, '1398626': 2, '1311231': 3, '2279000': 3, '236921': 5, '2566259': 5, '758937': 4, '2260684': 4, '1190829': 4, '136106': 3, '344753': 3, '568930': 5, '206115': 4, '2390644': 3, '2078679': 5, '1682651': 4, '386915': 4, '972136': 3, '1806515': 3, '11589': 3, '2118461': 5, '444411': 3, '691108': 4, '332401': 3, '1278488': 4, '358776': 4, '387418': 1, '872408': 4, '646098': 4, '396595': 5, '1366860': 4, '1046882': 3, '470861': 5, '1455257': 4, '1274780': 3, '379184': 4, '1273630': 4, '492291': 3, '145873': 3, '1388284': 5, '712610': 4, '1116065': 1, '660499': 1, '1918987': 4, '1357894': 3, '190418': 3, '1060658': 3, '1443203': 4, '1772839': 5, '2385774': 3, '1059319': 3, '831775': 4, '881346': 5, '1066317': 4, '13651': 3, '208920': 4, '308753': 5, '2564257': 3, '565041': 4, '1602153': 4, '173930': 4, '202811': 3, '353369': 3, '1201176': 4, '2047577': 3, '685113': 4, '1686060': 5, '151004': 5, '2126192': 3, '1981464': 4, '1862581': 4, '1255780': 5, '1962300': 3, '1515355': 3, '1001779': 4, '2093105': 3, '1123959': 3, '1876297': 5, '1364481': 4, '998236': 5, '328415': 3, '1347129': 4, '1117062': 4, '1033930': 3, '45117': 5, '1005769': 5, '712609': 4, '740495': 4, '2497991': 4, '1017324': 4, '120491': 5, '1645794': 4, '1658790': 3, '2451020': 4, '1878798': 4, '1790903': 4, '1254683': 1, '874943': 5, '121456': 4, '1140108': 4, '515436': 1, '272689': 5, '1247177': 3, '263240': 3, '2539549': 3, '2565654': 5, '334701': 3, '42921': 3, '2011399': 5, '433945': 5, '2151149': 4, '1415954': 2, '1086360': 3, '2419258': 4, '2380848': 5, '1550216': 1, '596533': 5, '287901': 5, '188613': 4, '1654508': 3, '1313126': 5, '51334': 4, '2374451': 4, '2031093': 4, '548064': 5, '946102': 5, '1790158': 4, '1403184': 3, '1535440': 4, '1426604': 4, '1815755': 5}\n"
     ]
    }
   ],
   "source": [
    "#get ratings for a movie\n",
    "movie = movies['1']\n",
    "print(movie)\n",
    "print(\"ratings on the format user_id : rating: \", movie.get_ratings())"
   ]
  },
  {
   "cell_type": "code",
   "execution_count": 7,
   "metadata": {},
   "outputs": [
    {
     "data": {
      "text/plain": [
       "defaultdict(src.structures.Movie,\n",
       "            {'1': Movie(1, Dinosaur Planet, 2003) seen by 547 users,\n",
       "             '2': Movie(2, Isle of Man TT 2004 Review, 2004) seen by 145 users,\n",
       "             '3': Movie(3, Character, 1997) seen by 2012 users,\n",
       "             '4': Movie(4, Paula Abdul's Get Up & Dance, 1994) seen by 142 users,\n",
       "             '5': Movie(5, The Rise and Fall of ECW, 2004) seen by 1140 users,\n",
       "             '6': Movie(6, Sick, 1997) seen by 1019 users,\n",
       "             '7': Movie(7, 8 Man, 1992) seen by 93 users,\n",
       "             '8': Movie(8, What the #$*! Do We Know!?, 2004) seen by 4894 users})"
      ]
     },
     "execution_count": 7,
     "metadata": {},
     "output_type": "execute_result"
    }
   ],
   "source": [
    "movies"
   ]
  },
  {
   "cell_type": "markdown",
   "metadata": {},
   "source": [
    "# Normalization"
   ]
  },
  {
   "cell_type": "code",
   "execution_count": 8,
   "metadata": {},
   "outputs": [],
   "source": [
    "# # Normalize ratings for each user to have mean 0 and variance 1\n",
    "# for user in users.values():\n",
    "#     user.normalize_ratings()"
   ]
  },
  {
   "cell_type": "markdown",
   "metadata": {},
   "source": [
    "# Add Genres to movies"
   ]
  },
  {
   "cell_type": "code",
   "execution_count": 9,
   "metadata": {},
   "outputs": [
    {
     "data": {
      "text/html": [
       "<div>\n",
       "<style scoped>\n",
       "    .dataframe tbody tr th:only-of-type {\n",
       "        vertical-align: middle;\n",
       "    }\n",
       "\n",
       "    .dataframe tbody tr th {\n",
       "        vertical-align: top;\n",
       "    }\n",
       "\n",
       "    .dataframe thead th {\n",
       "        text-align: right;\n",
       "    }\n",
       "</style>\n",
       "<table border=\"1\" class=\"dataframe\">\n",
       "  <thead>\n",
       "    <tr style=\"text-align: right;\">\n",
       "      <th></th>\n",
       "      <th>genre</th>\n",
       "      <th>expanded-genres</th>\n",
       "      <th>rating</th>\n",
       "      <th>description</th>\n",
       "      <th>year</th>\n",
       "    </tr>\n",
       "    <tr>\n",
       "      <th>movie title</th>\n",
       "      <th></th>\n",
       "      <th></th>\n",
       "      <th></th>\n",
       "      <th></th>\n",
       "      <th></th>\n",
       "    </tr>\n",
       "  </thead>\n",
       "  <tbody>\n",
       "    <tr>\n",
       "      <th>Flaming Ears</th>\n",
       "      <td>Fantasy</td>\n",
       "      <td>Fantasy, Sci-Fi</td>\n",
       "      <td>6.0</td>\n",
       "      <td>Flaming Ears is a pop sci-fi lesbian fantasy f...</td>\n",
       "      <td>1992</td>\n",
       "    </tr>\n",
       "    <tr>\n",
       "      <th>Jeg elsker dig</th>\n",
       "      <td>Romance</td>\n",
       "      <td>Comedy, Drama, Romance</td>\n",
       "      <td>5.8</td>\n",
       "      <td>Six people - three couples - meet at random at...</td>\n",
       "      <td>1957</td>\n",
       "    </tr>\n",
       "    <tr>\n",
       "      <th>Povjerenje</th>\n",
       "      <td>Thriller</td>\n",
       "      <td>Thriller</td>\n",
       "      <td>NaN</td>\n",
       "      <td>In a small unnamed town, in year 2025, Krsto w...</td>\n",
       "      <td>2021</td>\n",
       "    </tr>\n",
       "    <tr>\n",
       "      <th>Gulliver Returns</th>\n",
       "      <td>Fantasy</td>\n",
       "      <td>Animation, Adventure, Family</td>\n",
       "      <td>4.4</td>\n",
       "      <td>The legendary Gulliver returns to the Kingdom ...</td>\n",
       "      <td>2021</td>\n",
       "    </tr>\n",
       "    <tr>\n",
       "      <th>Prithvi Vallabh</th>\n",
       "      <td>Biography</td>\n",
       "      <td>Biography, Drama, Romance</td>\n",
       "      <td>NaN</td>\n",
       "      <td>Seminal silent historical film, the story feat...</td>\n",
       "      <td>1924</td>\n",
       "    </tr>\n",
       "    <tr>\n",
       "      <th>...</th>\n",
       "      <td>...</td>\n",
       "      <td>...</td>\n",
       "      <td>...</td>\n",
       "      <td>...</td>\n",
       "      <td>...</td>\n",
       "    </tr>\n",
       "    <tr>\n",
       "      <th>Paradise for Three</th>\n",
       "      <td>Romance</td>\n",
       "      <td>Romance, Comedy</td>\n",
       "      <td>7.0</td>\n",
       "      <td>A wealthy business man, out of touch with real...</td>\n",
       "      <td>1938</td>\n",
       "    </tr>\n",
       "    <tr>\n",
       "      <th>Road to Defiance</th>\n",
       "      <td>Action</td>\n",
       "      <td>Action, History</td>\n",
       "      <td>NaN</td>\n",
       "      <td>Two Scottish soldiers - Hamish McNeill &amp; Gordo...</td>\n",
       "      <td>nan</td>\n",
       "    </tr>\n",
       "    <tr>\n",
       "      <th>Under Your Hat</th>\n",
       "      <td>Adventure</td>\n",
       "      <td>Adventure, Comedy</td>\n",
       "      <td>5.5</td>\n",
       "      <td>Inept Secret Agent on a job in the South of Fr...</td>\n",
       "      <td>1940</td>\n",
       "    </tr>\n",
       "    <tr>\n",
       "      <th>The Shadow Thing</th>\n",
       "      <td>Horror</td>\n",
       "      <td>Horror</td>\n",
       "      <td>NaN</td>\n",
       "      <td>The Phantom and Persephone.</td>\n",
       "      <td>nan</td>\n",
       "    </tr>\n",
       "    <tr>\n",
       "      <th>Gatwick Gangsters</th>\n",
       "      <td>Adventure</td>\n",
       "      <td>Action, Adventure, Drama</td>\n",
       "      <td>2.7</td>\n",
       "      <td>A tale of love, intrigue, crime, passion, espi...</td>\n",
       "      <td>2017</td>\n",
       "    </tr>\n",
       "  </tbody>\n",
       "</table>\n",
       "<p>144195 rows × 5 columns</p>\n",
       "</div>"
      ],
      "text/plain": [
       "                        genre               expanded-genres  rating  \\\n",
       "movie title                                                           \n",
       "Flaming Ears          Fantasy               Fantasy, Sci-Fi     6.0   \n",
       "Jeg elsker dig        Romance        Comedy, Drama, Romance     5.8   \n",
       "Povjerenje           Thriller                      Thriller     NaN   \n",
       "Gulliver Returns      Fantasy  Animation, Adventure, Family     4.4   \n",
       "Prithvi Vallabh     Biography     Biography, Drama, Romance     NaN   \n",
       "...                       ...                           ...     ...   \n",
       "Paradise for Three    Romance               Romance, Comedy     7.0   \n",
       "Road to Defiance       Action               Action, History     NaN   \n",
       "Under Your Hat      Adventure             Adventure, Comedy     5.5   \n",
       "The Shadow Thing       Horror                        Horror     NaN   \n",
       "Gatwick Gangsters   Adventure      Action, Adventure, Drama     2.7   \n",
       "\n",
       "                                                          description  year  \n",
       "movie title                                                                  \n",
       "Flaming Ears        Flaming Ears is a pop sci-fi lesbian fantasy f...  1992  \n",
       "Jeg elsker dig      Six people - three couples - meet at random at...  1957  \n",
       "Povjerenje          In a small unnamed town, in year 2025, Krsto w...  2021  \n",
       "Gulliver Returns    The legendary Gulliver returns to the Kingdom ...  2021  \n",
       "Prithvi Vallabh     Seminal silent historical film, the story feat...  1924  \n",
       "...                                                               ...   ...  \n",
       "Paradise for Three  A wealthy business man, out of touch with real...  1938  \n",
       "Road to Defiance    Two Scottish soldiers - Hamish McNeill & Gordo...   nan  \n",
       "Under Your Hat      Inept Secret Agent on a job in the South of Fr...  1940  \n",
       "The Shadow Thing                          The Phantom and Persephone.   nan  \n",
       "Gatwick Gangsters   A tale of love, intrigue, crime, passion, espi...  2017  \n",
       "\n",
       "[144195 rows x 5 columns]"
      ]
     },
     "execution_count": 9,
     "metadata": {},
     "output_type": "execute_result"
    }
   ],
   "source": [
    "import pandas as pd\n",
    "\n",
    "splits = {'train': 'train.csv', 'validation': 'validation.csv', 'test': 'test.csv'}\n",
    "genres = pd.read_csv(\"hf://datasets/jquigl/imdb-genres/\" + splits[\"train\"])\n",
    "\n",
    "# Split the 'movie title - year' column into 'movie title' and 'year'\n",
    "genres[['movie title', 'year']] = genres['movie title - year'].str.rsplit(' - ', n=1, expand=True)\n",
    "\n",
    "# Drop the original 'movie title - year' column\n",
    "genres.drop(columns=['movie title - year'], inplace=True)\n",
    "\n",
    "#set movie title as index\n",
    "genres.set_index('movie title', inplace=True)\n",
    "\n",
    "#remove duplicate movies\n",
    "genres = genres[~genres.index.duplicated(keep='first')]\n",
    "\n",
    "# Display the genres DataFrame\n",
    "genres"
   ]
  },
  {
   "cell_type": "code",
   "execution_count": 10,
   "metadata": {},
   "outputs": [
    {
     "name": "stderr",
     "output_type": "stream",
     "text": [
      "100%|██████████| 8/8 [00:00<00:00, 211.51it/s]\n"
     ]
    }
   ],
   "source": [
    "for i in tqdm(range(1, len(movies)+1)):\n",
    "    movie = movies[str(i)]\n",
    "\n",
    "    try:\n",
    "        if not genres.loc[movie.title].empty:\n",
    "            if genres.loc[movie.title].year == movie.year:\n",
    "                if type(genres.loc[movie.title]) == pd.Series:\n",
    "                    movie.genres = genres.loc[movie.title]['expanded-genres'].split(\", \")\n",
    "                else:\n",
    "                    movie.genres = genres.loc[movie.title]['expanded-genres'].iloc[0].split(\", \")\n",
    "    except KeyError:\n",
    "        pass"
   ]
  },
  {
   "cell_type": "code",
   "execution_count": 11,
   "metadata": {},
   "outputs": [
    {
     "name": "stdout",
     "output_type": "stream",
     "text": [
      "Movies with genres: 2/8\n"
     ]
    }
   ],
   "source": [
    "g_count = 0\n",
    "for movie in movies.values():\n",
    "    if movie.genres:\n",
    "        g_count += 1\n",
    "\n",
    "print(f\"Movies with genres: {g_count}/{len(movies)}\")"
   ]
  },
  {
   "cell_type": "markdown",
   "metadata": {},
   "source": [
    "# Similarity"
   ]
  },
  {
   "cell_type": "code",
   "execution_count": 12,
   "metadata": {},
   "outputs": [
    {
     "name": "stdout",
     "output_type": "stream",
     "text": [
      "similarity between User(1488844) and User(822109): -0.0\n"
     ]
    }
   ],
   "source": [
    "#similarity between two users\n",
    "user1 = users['1488844']\n",
    "user2 = users['822109']\n",
    "similarity = user1.similarity(user2, method='pearson')\n",
    "print(f\"similarity between {user1} and {user2}: {similarity}\")"
   ]
  },
  {
   "cell_type": "code",
   "execution_count": 13,
   "metadata": {},
   "outputs": [
    {
     "name": "stdout",
     "output_type": "stream",
     "text": [
      "similarity between Dinosaur Planet, 2003 and Isle of Man TT 2004 Review, 2004: 0.98\n"
     ]
    }
   ],
   "source": [
    "#similarity between two movies\n",
    "movie1 = movies['1']\n",
    "movie2 = movies['2']\n",
    "similarity = movie1.similarity(movie2, method='pearson')\n",
    "print(f\"similarity between {movie1} and {movie2}: {similarity:.2f}\")"
   ]
  },
  {
   "cell_type": "markdown",
   "metadata": {},
   "source": [
    "# Jaccard bagging representation of movies\n",
    "In order to compute the LSH algorithm, we need to represent the users/movies as a set of ratings. On way to do this, is described in MMDS chapter 3.1 as the Jaccard bagging representation. In this representation, ids appear in the set as many times as the rating. For example, if a user has rated movie 1 with a 5, the set would look like this: {1, 1, 1, 1, 1}."
   ]
  },
  {
   "cell_type": "code",
   "execution_count": 20,
   "metadata": {},
   "outputs": [
    {
     "name": "stdout",
     "output_type": "stream",
     "text": [
      "User(1488844) ratings has bag representation ['1', '1', '1', '8', '8', '8', '8']\n"
     ]
    }
   ],
   "source": [
    "print(f\"{user1} ratings has bag representation {user1.bag_ratings()}\")"
   ]
  },
  {
   "cell_type": "markdown",
   "metadata": {},
   "source": [
    "# Alternative data structure: DataFrame\n",
    "Another suggestion is to use a pandas DataFrame to store the data. The advantage of using a DataFrame is that it is very fast and has a lot of built-in functionality. (It's also more memory efficient than dictionaries). The downside is that access time for users/movies is $O(n)$ which is slower than a dictionary (where $n$ is the number of rows in the DataFrame)."
   ]
  },
  {
   "cell_type": "code",
   "execution_count": null,
   "metadata": {},
   "outputs": [
    {
     "data": {
      "text/html": [
       "<div>\n",
       "<style scoped>\n",
       "    .dataframe tbody tr th:only-of-type {\n",
       "        vertical-align: middle;\n",
       "    }\n",
       "\n",
       "    .dataframe tbody tr th {\n",
       "        vertical-align: top;\n",
       "    }\n",
       "\n",
       "    .dataframe thead th {\n",
       "        text-align: right;\n",
       "    }\n",
       "</style>\n",
       "<table border=\"1\" class=\"dataframe\">\n",
       "  <thead>\n",
       "    <tr style=\"text-align: right;\">\n",
       "      <th></th>\n",
       "      <th>user_id</th>\n",
       "      <th>movie_id</th>\n",
       "      <th>rating</th>\n",
       "      <th>date</th>\n",
       "    </tr>\n",
       "  </thead>\n",
       "  <tbody>\n",
       "    <tr>\n",
       "      <th>0</th>\n",
       "      <td>1488844</td>\n",
       "      <td>1</td>\n",
       "      <td>3</td>\n",
       "      <td>2005-09-06</td>\n",
       "    </tr>\n",
       "    <tr>\n",
       "      <th>1</th>\n",
       "      <td>822109</td>\n",
       "      <td>1</td>\n",
       "      <td>5</td>\n",
       "      <td>2005-05-13</td>\n",
       "    </tr>\n",
       "    <tr>\n",
       "      <th>2</th>\n",
       "      <td>885013</td>\n",
       "      <td>1</td>\n",
       "      <td>4</td>\n",
       "      <td>2005-10-19</td>\n",
       "    </tr>\n",
       "    <tr>\n",
       "      <th>3</th>\n",
       "      <td>30878</td>\n",
       "      <td>1</td>\n",
       "      <td>4</td>\n",
       "      <td>2005-12-26</td>\n",
       "    </tr>\n",
       "    <tr>\n",
       "      <th>4</th>\n",
       "      <td>823519</td>\n",
       "      <td>1</td>\n",
       "      <td>3</td>\n",
       "      <td>2004-05-03</td>\n",
       "    </tr>\n",
       "    <tr>\n",
       "      <th>...</th>\n",
       "      <td>...</td>\n",
       "      <td>...</td>\n",
       "      <td>...</td>\n",
       "      <td>...</td>\n",
       "    </tr>\n",
       "    <tr>\n",
       "      <th>99965</th>\n",
       "      <td>735848</td>\n",
       "      <td>30</td>\n",
       "      <td>4</td>\n",
       "      <td>2004-06-24</td>\n",
       "    </tr>\n",
       "    <tr>\n",
       "      <th>99966</th>\n",
       "      <td>254710</td>\n",
       "      <td>30</td>\n",
       "      <td>4</td>\n",
       "      <td>2005-08-18</td>\n",
       "    </tr>\n",
       "    <tr>\n",
       "      <th>99967</th>\n",
       "      <td>865725</td>\n",
       "      <td>30</td>\n",
       "      <td>4</td>\n",
       "      <td>2004-04-25</td>\n",
       "    </tr>\n",
       "    <tr>\n",
       "      <th>99968</th>\n",
       "      <td>568153</td>\n",
       "      <td>30</td>\n",
       "      <td>3</td>\n",
       "      <td>2005-08-19</td>\n",
       "    </tr>\n",
       "    <tr>\n",
       "      <th>99969</th>\n",
       "      <td>2502775</td>\n",
       "      <td>30</td>\n",
       "      <td>4</td>\n",
       "      <td>2005-08-19</td>\n",
       "    </tr>\n",
       "  </tbody>\n",
       "</table>\n",
       "<p>99970 rows × 4 columns</p>\n",
       "</div>"
      ],
      "text/plain": [
       "       user_id movie_id rating        date\n",
       "0      1488844        1      3  2005-09-06\n",
       "1       822109        1      5  2005-05-13\n",
       "2       885013        1      4  2005-10-19\n",
       "3        30878        1      4  2005-12-26\n",
       "4       823519        1      3  2004-05-03\n",
       "...        ...      ...    ...         ...\n",
       "99965   735848       30      4  2004-06-24\n",
       "99966   254710       30      4  2005-08-18\n",
       "99967   865725       30      4  2004-04-25\n",
       "99968   568153       30      3  2005-08-19\n",
       "99969  2502775       30      4  2005-08-19\n",
       "\n",
       "[99970 rows x 4 columns]"
      ]
     },
     "execution_count": 21,
     "metadata": {},
     "output_type": "execute_result"
    }
   ],
   "source": [
    "df = read_df(datapath, datafiles=datafiles, n_lines=100000)\n",
    "df.set_index('user_id', inplace=True)"
   ]
  },
  {
   "cell_type": "code",
   "execution_count": 16,
   "metadata": {},
   "outputs": [],
   "source": [
    "# #all ratings for user 1488844\n",
    "# df[df.user_id == \"1488844\"]"
   ]
  },
  {
   "cell_type": "code",
   "execution_count": 17,
   "metadata": {},
   "outputs": [],
   "source": [
    "# #all ratings for movie 1\n",
    "# df[df.movie_id == \"1\"]"
   ]
  },
  {
   "cell_type": "code",
   "execution_count": 18,
   "metadata": {},
   "outputs": [],
   "source": [
    "#get all unique user id # TOOOOO SLOW\n",
    "# unique_users = df.user_id.unique()\n",
    "# for i in tqdm(range(len(unique_users))):\n",
    "#     user = unique_users[i]\n",
    "#     df_user = df[df.user_id == user]"
   ]
  },
  {
   "cell_type": "code",
   "execution_count": 19,
   "metadata": {},
   "outputs": [],
   "source": [
    "# unique_users = df.user_id.unique()\n",
    "# # for i in tqdm(range(len(unique_users))):\n",
    "# #     user = unique_users[i]\n",
    "# #     info_user = users[user]"
   ]
  }
 ],
 "metadata": {
  "kernelspec": {
   "display_name": "Python 3",
   "language": "python",
   "name": "python3"
  },
  "language_info": {
   "codemirror_mode": {
    "name": "ipython",
    "version": 3
   },
   "file_extension": ".py",
   "mimetype": "text/x-python",
   "name": "python",
   "nbconvert_exporter": "python",
   "pygments_lexer": "ipython3",
   "version": "3.11.9"
  }
 },
 "nbformat": 4,
 "nbformat_minor": 2
}
