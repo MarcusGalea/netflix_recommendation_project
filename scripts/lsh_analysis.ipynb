{
 "cells": [
  {
   "cell_type": "code",
   "execution_count": 1,
   "metadata": {},
   "outputs": [],
   "source": [
    "from tqdm import tqdm\n",
    "import numpy as np\n",
    "from src.structures import User, Movie\n",
    "from src.data_methods import read_movies,read_viewers\n",
    "import kagglehub\n",
    "import os"
   ]
  },
  {
   "cell_type": "code",
   "execution_count": 2,
   "metadata": {},
   "outputs": [],
   "source": [
    "# Download latest version\n",
    "#please ikke offentliggør min api key. \n",
    "os.environ['KAGGLE_USERNAME'] = \"marcusgaleajacobsen\"\n",
    "os.environ['KAGGLE_KEY'] = \"32a3003f52c97053841ea46c492128dc\"\n",
    "datapath = kagglehub.dataset_download(\"netflix-inc/netflix-prize-data\")"
   ]
  },
  {
   "cell_type": "code",
   "execution_count": 3,
   "metadata": {},
   "outputs": [
    {
     "name": "stderr",
     "output_type": "stream",
     "text": [
      "100%|██████████| 24058263/24058263 [01:16<00:00, 315829.28it/s]\n"
     ]
    }
   ],
   "source": [
    "n_lines = np.inf #number of reviews to read\n",
    "datafiles = [\"combined_data_1.txt\"]#, \"combined_data_2.txt\", \"combined_data_3.txt\", \"combined_data_4.txt\"]\n",
    "with_tqdm = True #set to True to see progress bar (reduce speed)\n",
    "reviews_pr_user = 10 #number of reviews per user to read\n",
    "\n",
    "movies = read_movies(datapath)\n",
    "users = read_viewers(datapath, movies, datafiles = datafiles, with_tqdm= with_tqdm, n_lines=n_lines,)# reviews_pr_user=reviews_pr_user) #read only 100000 "
   ]
  },
  {
   "cell_type": "code",
   "execution_count": 4,
   "metadata": {},
   "outputs": [
    {
     "name": "stderr",
     "output_type": "stream",
     "text": [
      "  0%|          | 0/4499 [00:00<?, ?it/s]"
     ]
    },
    {
     "name": "stderr",
     "output_type": "stream",
     "text": [
      "100%|██████████| 4499/4499 [04:15<00:00, 17.61it/s]\n"
     ]
    }
   ],
   "source": [
    "from src.similarity_methods import compute_signatures, create_buckets, get_candidates, trim_candidates\n",
    "n_hashes = 20\n",
    "n_buckets = len(movies)**2\n",
    "\n",
    "SIG = compute_signatures(movies, n_hashes, with_tqdm = True)"
   ]
  },
  {
   "cell_type": "code",
   "execution_count": 5,
   "metadata": {},
   "outputs": [],
   "source": [
    "b = 5\n",
    "n_buckets = 2**16\n",
    "buckets = create_buckets(SIG, bands = b, n_buckets= n_buckets)"
   ]
  },
  {
   "cell_type": "code",
   "execution_count": 6,
   "metadata": {},
   "outputs": [
    {
     "name": "stderr",
     "output_type": "stream",
     "text": [
      "100%|██████████| 4325/4325 [00:00<?, ?it/s]\n",
      "100%|██████████| 4323/4323 [00:00<00:00, 1506103.18it/s]\n",
      "100%|██████████| 4296/4296 [00:00<?, ?it/s]\n",
      "100%|██████████| 4326/4326 [00:00<00:00, 1119758.03it/s]\n",
      "100%|██████████| 4295/4295 [00:00<?, ?it/s]\n",
      "100%|██████████| 5/5 [00:00<00:00, 123.40it/s]\n"
     ]
    }
   ],
   "source": [
    "candidates = get_candidates(buckets)"
   ]
  },
  {
   "cell_type": "code",
   "execution_count": 7,
   "metadata": {},
   "outputs": [
    {
     "data": {
      "text/plain": [
       "10118251"
      ]
     },
     "execution_count": 7,
     "metadata": {},
     "output_type": "execute_result"
    }
   ],
   "source": [
    "#binomial coefficient\n",
    "from math import comb\n",
    "n_candidates = len(candidates)\n",
    "n_movies = len(movies)\n",
    "n_pairs = comb(n_movies, 2)\n",
    "n_pairs"
   ]
  },
  {
   "cell_type": "code",
   "execution_count": 8,
   "metadata": {},
   "outputs": [],
   "source": [
    "r = n_hashes // b\n",
    "t = (1/b)**(1/r)"
   ]
  },
  {
   "cell_type": "code",
   "execution_count": 9,
   "metadata": {},
   "outputs": [
    {
     "name": "stderr",
     "output_type": "stream",
     "text": [
      "100%|██████████| 1007/1007 [00:08<00:00, 125.34it/s]"
     ]
    },
    {
     "name": "stdout",
     "output_type": "stream",
     "text": [
      "Removed 936 from 1007 candidates\n"
     ]
    },
    {
     "name": "stderr",
     "output_type": "stream",
     "text": [
      "\n"
     ]
    }
   ],
   "source": [
    "n_removed = trim_candidates(movies, candidates, threshold = 0.3)\n",
    "print(f\"Removed {n_removed} from {len(candidates)} candidates\")"
   ]
  },
  {
   "cell_type": "code",
   "execution_count": null,
   "metadata": {},
   "outputs": [
    {
     "data": {
      "text/plain": [
       "4499"
      ]
     },
     "execution_count": 10,
     "metadata": {},
     "output_type": "execute_result"
    }
   ],
   "source": [
    "#compute similarity matrix\n",
    "sim_matrix = np.zeros((n_movies, n_movies))\n",
    "for i, movie_id1 in enumerate(tqdm(movies)):\n",
    "    for j, movie_id2 in enumerate(movies):\n",
    "        sim_matrix[i, j] = movies[movie_id1.similarity(movies[movie_id2], method = \"jaccard\")]"
   ]
  }
 ],
 "metadata": {
  "kernelspec": {
   "display_name": "Python 3",
   "language": "python",
   "name": "python3"
  },
  "language_info": {
   "codemirror_mode": {
    "name": "ipython",
    "version": 3
   },
   "file_extension": ".py",
   "mimetype": "text/x-python",
   "name": "python",
   "nbconvert_exporter": "python",
   "pygments_lexer": "ipython3",
   "version": "3.11.9"
  }
 },
 "nbformat": 4,
 "nbformat_minor": 2
}
